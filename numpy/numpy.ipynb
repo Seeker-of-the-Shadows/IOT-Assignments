{
 "cells": [
  {
   "cell_type": "code",
   "execution_count": 2,
   "id": "05cedfe3-b92c-4bac-b8ec-313e70f40762",
   "metadata": {},
   "outputs": [],
   "source": [
    "import numpy as n"
   ]
  },
  {
   "cell_type": "code",
   "execution_count": 3,
   "id": "bd3132e9-c30c-4b4b-9674-7e74dc4d4d24",
   "metadata": {},
   "outputs": [
    {
     "name": "stdout",
     "output_type": "stream",
     "text": [
      "the size of the memory occupied by the array is 32 bytes\n"
     ]
    }
   ],
   "source": [
    "#q1\n",
    "arr=n.array([1, 7, 13, 105])\n",
    "print(f\"the size of the memory occupied by the array is {arr.nbytes} bytes\")\n"
   ]
  },
  {
   "cell_type": "code",
   "execution_count": 4,
   "id": "d2f6ad73-3cd2-43cf-a1d6-c0ed2fd824e6",
   "metadata": {},
   "outputs": [
    {
     "name": "stdout",
     "output_type": "stream",
     "text": [
      "[3 5]\n",
      "[2 5]\n",
      "Comparison - greater\n",
      "[ True False]\n",
      "Comparison - greater_equal\n",
      "[ True  True]\n",
      "Comparison - less\n",
      "[False False]\n",
      "Comparison - less_equal\n",
      "[False  True]\n"
     ]
    }
   ],
   "source": [
    "#q2\n",
    "\n",
    "x = n.array([3, 5])\n",
    "y = n.array([2, 5])\n",
    "\n",
    "print(x)\n",
    "print(y)\n",
    "print(\"Comparison - greater\")\n",
    "print(n.greater(x, y))\n",
    "print(\"Comparison - greater_equal\")\n",
    "print(n.greater_equal(x, y))\n",
    "print(\"Comparison - less\")\n",
    "print(n.less(x, y))\n",
    "print(\"Comparison - less_equal\")\n",
    "print(n.less_equal(x, y)) "
   ]
  },
  {
   "cell_type": "code",
   "execution_count": 5,
   "id": "616d4086-0cfc-4700-a459-5f1d9121342a",
   "metadata": {},
   "outputs": [
    {
     "name": "stdout",
     "output_type": "stream",
     "text": [
      "[0. 0. 0. 0. 0. 0. 0. 0. 0. 0.] [1. 1. 1. 1. 1. 1. 1. 1. 1. 1.] [10. 10. 10. 10. 10. 10. 10. 10. 10. 10.] [20. 20. 20. 20. 20. 20. 20. 20. 20. 20.] [5. 5. 5. 5. 5. 5. 5. 5. 5. 5.] [50. 50. 50. 50. 50. 50. 50. 50. 50. 50.]\n"
     ]
    }
   ],
   "source": [
    "#q3\n",
    "z=n.zeros(10)\n",
    "o=n.ones(10)\n",
    "t=10*o\n",
    "w=t*2\n",
    "f=o*5\n",
    "y=t*5\n",
    "print(z,o,t,w,f,y)"
   ]
  },
  {
   "cell_type": "code",
   "execution_count": 6,
   "id": "357f8549-1340-4dd7-973f-8b9ca020b4cc",
   "metadata": {},
   "outputs": [
    {
     "name": "stdout",
     "output_type": "stream",
     "text": [
      "[30 31 32 33 34 35 36 37 38 39 40 41 42 43 44 45 46 47 48 49 50 51 52 53\n",
      " 54 55 56 57 58 59 60 61 62 63 64 65 66 67 68 69 70]\n"
     ]
    }
   ],
   "source": [
    "#q4\n",
    "arr=n.arange(30,71)\n",
    "print(arr)"
   ]
  },
  {
   "cell_type": "code",
   "execution_count": 7,
   "id": "ed2f16a6-ba37-44d3-9260-5816b1222704",
   "metadata": {},
   "outputs": [
    {
     "name": "stdout",
     "output_type": "stream",
     "text": [
      "[50 51 52 53 54 55 56 57 58 59 60 61 62 63 64 65 66 67 68 69 70 71 72 73\n",
      " 74 75 76 77 78 79 80 81 82 83 84 85 86 87 88 89 90 91 92 93 94 95]\n"
     ]
    }
   ],
   "source": [
    "#q5\n",
    "ary=n.arange(50,96)\n",
    "print(ary)"
   ]
  },
  {
   "cell_type": "code",
   "execution_count": 8,
   "id": "c0e2392e-6234-4297-89e2-97b492b069e1",
   "metadata": {},
   "outputs": [
    {
     "name": "stdout",
     "output_type": "stream",
     "text": [
      "even numbers [20 22 24 26 28 30 32 34 36 38 40 42 44 46 48 50 52 54 56 58 60 62 64 66\n",
      " 68 70 72 74 76 78 80]\n"
     ]
    }
   ],
   "source": [
    "#q6\n",
    "ar2=n.arange(20,81,2)\n",
    "print(f\"even numbers\",ar2)\n"
   ]
  },
  {
   "cell_type": "code",
   "execution_count": 9,
   "id": "49f78e61-006a-4c16-a704-bed67199a717",
   "metadata": {},
   "outputs": [
    {
     "name": "stdout",
     "output_type": "stream",
     "text": [
      "odd numbers [21 23 25 27 29 31 33 35 37 39 41 43 45 47 49 51 53 55 57 59 61 63 65 67\n",
      " 69 71 73 75 77 79]\n"
     ]
    }
   ],
   "source": [
    "#q7\n",
    "ar1=n.arange(21,80,2)\n",
    "print(f\"odd numbers\",ar1)"
   ]
  },
  {
   "cell_type": "code",
   "execution_count": 10,
   "id": "50641e0e-3b48-46a1-b89e-c5c089ac2285",
   "metadata": {},
   "outputs": [
    {
     "name": "stdout",
     "output_type": "stream",
     "text": [
      "[10 20 30 12 20 25 31 14 27 19 16 35 27 27 28]\n"
     ]
    }
   ],
   "source": [
    "#q8\n",
    "arr1=n.random.randint(10,40,15)\n",
    "print(arr1)"
   ]
  },
  {
   "cell_type": "code",
   "execution_count": 11,
   "id": "d9cfe3de-d06b-46d2-8c1a-467cbae1989a",
   "metadata": {},
   "outputs": [
    {
     "name": "stdout",
     "output_type": "stream",
     "text": [
      "[42 35 34 42 39 38 42 39 40 37]\n"
     ]
    }
   ],
   "source": [
    "#q9\n",
    "arr2=n.random.randint(30,50,10)\n",
    "print(arr2)"
   ]
  },
  {
   "cell_type": "code",
   "execution_count": 12,
   "id": "147251a0-9018-4596-8d76-db486c155722",
   "metadata": {},
   "outputs": [
    {
     "name": "stdout",
     "output_type": "stream",
     "text": [
      "[54 76 53 55 57 65 65 73 52 66 70 76 84 55 70 79 81 54 66 77]\n"
     ]
    }
   ],
   "source": [
    "#q10\n",
    "arr3=n.random.randint(50,90,20)\n",
    "print(arr3)"
   ]
  },
  {
   "cell_type": "code",
   "execution_count": 13,
   "id": "0e297118-5d7a-4be9-95dd-9d02e09a694c",
   "metadata": {},
   "outputs": [
    {
     "name": "stdout",
     "output_type": "stream",
     "text": [
      "a= [1 2 3 4 5]\n",
      "b= [10 20 30 40 50]\n",
      "a+b= [11 22 33 44 55]\n",
      "a-b= [ -9 -18 -27 -36 -45]\n",
      "a*b= [ 10  40  90 160 250]\n",
      "a/b [0.1 0.1 0.1 0.1 0.1]\n"
     ]
    }
   ],
   "source": [
    "#q11\n",
    "a=n.array([1,2,3,4,5])\n",
    "b=n.array([10,20,30,40,50])\n",
    "print(f\"a=\",a)\n",
    "print(f\"b=\",b)\n",
    "print(f\"a+b=\",a+b)\n",
    "print(f\"a-b=\",a-b)\n",
    "print(f\"a*b=\",a*b)\n",
    "print(f\"a/b\",a/b)\n"
   ]
  },
  {
   "cell_type": "code",
   "execution_count": 14,
   "id": "b7136fc2-da87-42b4-a37d-db2b80cc3dca",
   "metadata": {},
   "outputs": [
    {
     "name": "stdout",
     "output_type": "stream",
     "text": [
      "[[10 11 12 13]\n",
      " [14 15 16 17]\n",
      " [18 19 20 21]]\n"
     ]
    }
   ],
   "source": [
    "#q12\n",
    "arr3=n.arange(10,22)\n",
    "arr3=arr3.reshape([3,4])\n",
    "print(arr3)"
   ]
  },
  {
   "cell_type": "code",
   "execution_count": 15,
   "id": "ab5f12de-4d0e-416d-8141-3b3573af171b",
   "metadata": {},
   "outputs": [
    {
     "name": "stdout",
     "output_type": "stream",
     "text": [
      "[[1. 0. 0.]\n",
      " [0. 1. 0.]\n",
      " [0. 0. 1.]]\n"
     ]
    }
   ],
   "source": [
    "#q13\n",
    "i=n.eye(3)\n",
    "print(i)"
   ]
  },
  {
   "cell_type": "code",
   "execution_count": 16,
   "id": "712c9611-06b6-49d2-bd42-08c29fb23183",
   "metadata": {},
   "outputs": [
    {
     "name": "stdout",
     "output_type": "stream",
     "text": [
      "rows,columns\n",
      "(3, 4)\n"
     ]
    }
   ],
   "source": [
    "#q14\n",
    "print(f\"rows,columns\")\n",
    "print(arr3.shape)"
   ]
  },
  {
   "cell_type": "code",
   "execution_count": 17,
   "id": "7d7e14cb-a1a1-45fe-94c2-dcf9323c199e",
   "metadata": {},
   "outputs": [
    {
     "name": "stdout",
     "output_type": "stream",
     "text": [
      "[[1 0 0 0 0]\n",
      " [0 2 0 0 0]\n",
      " [0 0 3 0 0]\n",
      " [0 0 0 4 0]\n",
      " [0 0 0 0 5]]\n"
     ]
    }
   ],
   "source": [
    "#q15\n",
    "arr5=n.diag([1,2,3,4,5])\n",
    "print(arr5)\n",
    "\n"
   ]
  },
  {
   "cell_type": "code",
   "execution_count": 18,
   "id": "922f3856-250b-411c-802f-92b38e400e27",
   "metadata": {},
   "outputs": [
    {
     "name": "stdout",
     "output_type": "stream",
     "text": [
      "[[[0.02810738 0.32932934 0.44843102]\n",
      "  [0.92739992 0.65063441 0.50163575]\n",
      "  [0.21448633 0.18695903 0.82207982]]\n",
      "\n",
      " [[0.56589815 0.94367625 0.26776282]\n",
      "  [0.80003329 0.42096188 0.29491439]\n",
      "  [0.37043554 0.88275855 0.54178158]]\n",
      "\n",
      " [[0.84267542 0.18417298 0.27267234]\n",
      "  [0.20711913 0.70108038 0.24475287]\n",
      "  [0.23973555 0.42616632 0.27568022]]]\n"
     ]
    }
   ],
   "source": [
    "#q16\n",
    "arr6=n.random.random((3,3,3))\n",
    "print(arr6)"
   ]
  },
  {
   "cell_type": "code",
   "execution_count": 19,
   "id": "bf6e4ba8-68a4-4f10-a238-b4ecfd0b7ad8",
   "metadata": {},
   "outputs": [
    {
     "name": "stdout",
     "output_type": "stream",
     "text": [
      "[[[0.80187128 0.70071028 0.77769985 0.79450707]\n",
      "  [0.94289915 0.06374733 0.95326985 0.29462162]\n",
      "  [0.10921629 0.33983741 0.13582799 0.48694497]]\n",
      "\n",
      " [[0.9492468  0.24021997 0.63444221 0.56664871]\n",
      "  [0.09895846 0.56534444 0.65494466 0.12700788]\n",
      "  [0.82242142 0.74404046 0.40226631 0.85305539]]]\n"
     ]
    }
   ],
   "source": [
    "#q17\n",
    "arr7=n.random.random((2,3,4))\n",
    "print(arr7)"
   ]
  },
  {
   "cell_type": "code",
   "execution_count": 21,
   "id": "9626381b-024c-4a52-93de-b81ca39ceb42",
   "metadata": {},
   "outputs": [
    {
     "name": "stdout",
     "output_type": "stream",
     "text": [
      "[12.23, 13.32, 100, 36.32]\n",
      "[ 12.23  13.32 100.    36.32]\n"
     ]
    }
   ],
   "source": [
    "#q18\n",
    "l = [12.23, 13.32, 100, 36.32]\n",
    "print(l)\n",
    "arr8=n.array(l)\n",
    "print(arr8)"
   ]
  },
  {
   "cell_type": "code",
   "execution_count": 22,
   "id": "2a3ccb46-db81-4372-9f4f-e3ffd0afff4c",
   "metadata": {},
   "outputs": [
    {
     "name": "stdout",
     "output_type": "stream",
     "text": [
      "[[ 2  3  4]\n",
      " [ 5  6  7]\n",
      " [ 8  9 10]]\n"
     ]
    }
   ],
   "source": [
    "x = n.arange(2, 11).reshape(3, 3)\n",
    "\n",
    "\n",
    "print(x)"
   ]
  },
  {
   "cell_type": "code",
   "execution_count": 23,
   "id": "74130a00-4af9-450c-a078-203aaff196a3",
   "metadata": {},
   "outputs": [
    {
     "name": "stdout",
     "output_type": "stream",
     "text": [
      "[12 13 14 15 16 17 18 19 20 21 22 23 24 25 26 27 28 29 30 31 32 33 34 35\n",
      " 36 37]\n"
     ]
    }
   ],
   "source": [
    "x= n.arange(12,38)\n",
    "print(x)"
   ]
  },
  {
   "cell_type": "code",
   "execution_count": 24,
   "id": "23074eda-890d-4325-be63-1ebe499fcbd7",
   "metadata": {},
   "outputs": [
    {
     "name": "stdout",
     "output_type": "stream",
     "text": [
      "[37 36 35 34 33 32 31 30 29 28 27 26 25 24 23 22 21 20 19 18 17 16 15 14\n",
      " 13 12]\n"
     ]
    }
   ],
   "source": [
    "#q21\n",
    "x = x[::-1]\n",
    "print(x)"
   ]
  },
  {
   "cell_type": "code",
   "execution_count": 25,
   "id": "3edc710a-8fc2-4c5c-9def-d37b2264cc7f",
   "metadata": {},
   "outputs": [
    {
     "name": "stdout",
     "output_type": "stream",
     "text": [
      "[1. 2. 3. 4. 5.]\n"
     ]
    }
   ],
   "source": [
    "a9=n.asfarray(a)\n",
    "print(a9)"
   ]
  },
  {
   "cell_type": "code",
   "execution_count": 29,
   "id": "3e05a604-6061-4bec-9b23-aaaba5b14250",
   "metadata": {},
   "outputs": [
    {
     "name": "stdout",
     "output_type": "stream",
     "text": [
      "List:  [1, 2, 3, 4, 5, 6, 7, 8, 9]\n",
      "Array:  [1 2 3 4 5 6 7 8 9]\n"
     ]
    }
   ],
   "source": [
    "#q23\n",
    "a = [1, 2, 3, 4, 5, 6, 7, 8, 9]\n",
    "arr = n.array(a)\n",
    "print (\"List: \", a)\n",
    "print (\"Array: \", arr)"
   ]
  },
  {
   "cell_type": "code",
   "execution_count": 31,
   "id": "9b1578ad-d3c7-44ee-a062-1fc6765e3ea8",
   "metadata": {},
   "outputs": [
    {
     "name": "stdout",
     "output_type": "stream",
     "text": [
      "Element-wise remainder of division:\n",
      "[1 2 3 4 0 1 2 3 4]\n"
     ]
    }
   ],
   "source": [
    "print(\"Element-wise remainder of division:\")\n",
    "print(n.remainder(arr, 5)) "
   ]
  },
  {
   "cell_type": "code",
   "execution_count": 33,
   "id": "6b80209b-655d-4ccc-8a11-cebf8a4a1e0f",
   "metadata": {},
   "outputs": [
    {
     "name": "stdout",
     "output_type": "stream",
     "text": [
      "[21 22 23 24 25 26 27 28 29 30 31 32 33 34 35 36 37 38 39 40 41 42 43 44\n",
      " 45 46 47 48 49]\n",
      "[0 1 2 0 1 2 0 1 2 0 1 2 0 1 2 0 1 2 0 1 2 0 1 2 0 1 2 0 1]\n"
     ]
    }
   ],
   "source": [
    "ar11=n.arange(21,50)\n",
    "print(ar11)\n",
    "print(n.remainder(ar11, 3)) "
   ]
  },
  {
   "cell_type": "code",
   "execution_count": null,
   "id": "db554fef-def9-4208-ab42-de46bd3fb576",
   "metadata": {},
   "outputs": [],
   "source": []
  }
 ],
 "metadata": {
  "kernelspec": {
   "display_name": "Python 3 (ipykernel)",
   "language": "python",
   "name": "python3"
  },
  "language_info": {
   "codemirror_mode": {
    "name": "ipython",
    "version": 3
   },
   "file_extension": ".py",
   "mimetype": "text/x-python",
   "name": "python",
   "nbconvert_exporter": "python",
   "pygments_lexer": "ipython3",
   "version": "3.10.12"
  }
 },
 "nbformat": 4,
 "nbformat_minor": 5
}
